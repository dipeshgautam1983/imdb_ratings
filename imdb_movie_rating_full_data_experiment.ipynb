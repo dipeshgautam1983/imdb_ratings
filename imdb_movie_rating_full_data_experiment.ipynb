{
 "cells": [
  {
   "cell_type": "markdown",
   "metadata": {},
   "source": [
    "# Summary\n",
    "In this notebook, following three regression models is used to predict movie ratings in IMDB data.\n",
    "models:\n",
    "\n",
    "(1) Linear Regression, using Scikit-learn\n",
    "\n",
    "(2) Ridge Regression, using Scikit-learn\n",
    "\n",
    "(3) Feed Forward Neural Network for regression using Keras\n",
    "\n",
    "\n",
    "Features Used:\n",
    "\n",
    "There are all together 7 data files in IMDB data set of which one contains ratings of 954648 movie titles. These file contain important features if used carefully. Here in this project, I have used some of the files to construct important features. Due to time and resource constraints many potential predictive features has been discarded and planned to use in future. Following are the list of features used here:\n",
    "\n",
    "(1) __titleType__: different people have different preferences; for example short movie, TV Movie etc\n",
    "\n",
    "(2) __startYear__: it is possible that the choice of movie changes over time because of technology and the plot used over time.\n",
    "\n",
    "\\[__endDate__: is discarded for now. it could be predictive for TV series. Also the startYear and endYear could be used in combination with deathYear to model the effect of Death of an artist, director or writer during which the serial has casted \\]\n",
    "\n",
    "(3) __isAdult__: if movie is adult rated\n",
    "\n",
    "(4) __runtimeMinutes__: Many young people prefer to watch short movie compared to old people. Hence could be agood feature.\n",
    "\n",
    "(5) __genres__: Different people have different preferences; Drama, Western, Romance etc.\n",
    "\n",
    "(6) __localized title (title)__: Indicates in how many different languages are the movie made. Here __count__ of such localized title for each original title are used as features.\n",
    "\n",
    "(7) __types__: set of attributes for describing localized titles. We binarized these attributes\n",
    "\n",
    "Total features after feature transformations = __44__\n",
    "\n",
    "__Note__: The other important features (we discarded for now) such as __directors__, __writers__, __principal actor__, __knownForTitles__ could be used in different ways such as obtaining name embeddings, popularity of the person based upon how many movies he worked on, how many popular people he worked with. The popularity of crew members could be used as popularity weight of movie."
   ]
  },
  {
   "cell_type": "code",
   "execution_count": 1,
   "metadata": {},
   "outputs": [
    {
     "name": "stderr",
     "output_type": "stream",
     "text": [
      "/home/dgautam/anaconda3/lib/python3.6/site-packages/IPython/core/interactiveshell.py:2785: DtypeWarning: Columns (7) have mixed types. Specify dtype option on import or set low_memory=False.\n",
      "  interactivity=interactivity, compiler=compiler, result=result)\n",
      "/home/dgautam/anaconda3/lib/python3.6/site-packages/IPython/core/interactiveshell.py:2785: DtypeWarning: Columns (5) have mixed types. Specify dtype option on import or set low_memory=False.\n",
      "  interactivity=interactivity, compiler=compiler, result=result)\n"
     ]
    }
   ],
   "source": [
    "import pandas as pd\n",
    "import numpy as np\n",
    "\n",
    "#read data\n",
    "d_akas = pd.read_csv(\"data/title.akas.tsv\",sep=\"\\t\",engine=\"c\",encoding='utf8')\n",
    "\n",
    "d_basics = pd.read_csv(\"data/title.basics.tsv\",sep=\"\\t\",engine=\"c\",encoding='utf8')\n",
    "d_crew = pd.read_csv(\"data/title.crew.tsv\",sep=\"\\t\",engine=\"c\",encoding='utf8')\n",
    "d_episode = pd.read_csv(\"data/title.episode.tsv\",sep=\"\\t\",engine=\"c\",encoding='utf8')\n",
    "d_principals = pd.read_csv(\"data/title.principals.tsv\",sep=\"\\t\",engine=\"c\",encoding='utf8')\n",
    "d_ratings = pd.read_csv(\"data/title.ratings.tsv\",sep=\"\\t\",engine=\"c\",encoding='utf8')\n",
    "d_name = pd.read_csv(\"data/name.basics.tsv\",sep=\"\\t\",engine=\"c\",encoding='utf8')\n",
    "\n",
    "\n",
    "# print(d_akas[0:10])\n",
    "# print(d_basics[0:10])\n",
    "# print(d_crew[0:10])\n",
    "# print(d_episode[0:10])\n",
    "# print(d_principals[0:10])\n",
    "# print(d_ratings[0:10])\n",
    "# print(d_name[0:10])"
   ]
  },
  {
   "cell_type": "code",
   "execution_count": 2,
   "metadata": {},
   "outputs": [
    {
     "name": "stdout",
     "output_type": "stream",
     "text": [
      "d_akas (3691935, 8)\n",
      "d_basics (6020773, 9)\n",
      "d_episode (4192435, 4)\n",
      "d_crew (6020773, 3)\n",
      "d_principals (34732384, 6)\n",
      "d_ratings (954648, 3)\n",
      "d_name (9461294, 6)\n"
     ]
    }
   ],
   "source": [
    "print(\"d_akas\",d_akas.shape)\n",
    "print(\"d_basics\",d_basics.shape)\n",
    "print(\"d_episode\",d_episode.shape)\n",
    "print(\"d_crew\",d_crew.shape)\n",
    "print(\"d_principals\",d_principals.shape)\n",
    "print(\"d_ratings\",d_ratings.shape)\n",
    "print(\"d_name\",d_name.shape)\n",
    "\n",
    "\n"
   ]
  },
  {
   "cell_type": "markdown",
   "metadata": {},
   "source": [
    "### Clean title.basics table by replacing '\\N' in startYear with mode of startYear"
   ]
  },
  {
   "cell_type": "code",
   "execution_count": 3,
   "metadata": {},
   "outputs": [],
   "source": [
    "#replace \\N in startYear with mode of the column \n",
    "mod = d_basics[d_basics['startYear']!='\\\\N']['startYear'].mode().values[0]\n",
    "\n",
    "#below operation replaces '\\N' with NaN\n",
    "d_basics['startYear'] = pd.to_numeric(d_basics['startYear'], errors='coerce')\n",
    "#replace any NaN\n",
    "d_basics['startYear'].fillna(mod,inplace=True)\n",
    "\n",
    "# print(\"is Null_x:\",d_basics[pd.isnull(d_basics).any(axis=1)])\n"
   ]
  },
  {
   "cell_type": "markdown",
   "metadata": {},
   "source": [
    "### take subset of data (because of resource constraint, subset of data is selected for now)"
   ]
  },
  {
   "cell_type": "code",
   "execution_count": 4,
   "metadata": {},
   "outputs": [],
   "source": [
    "\n",
    "# #take subset of data \n",
    "# numdata = 100000\n",
    "\n",
    "# d_akas = d_akas[0:numdata]\n",
    "\n",
    "# d_basics = d_basics[0:numdata]\n",
    "# d_crew = d_crew[0:numdata]\n",
    "# d_episode = d_episode[0:numdata]\n",
    "# d_principals = d_principals[0:numdata]\n",
    "# d_ratings = d_ratings[0:numdata]\n",
    "# d_name = d_name[0:numdata]\n",
    "\n",
    "\n",
    "# print(d_akas[0:10])\n",
    "# print(d_basics[0:10])\n",
    "# print(d_crew[0:10])\n",
    "# print(d_episode[0:10])\n",
    "# print(d_principals[0:10])\n",
    "# print(d_ratings[0:10])\n",
    "# print(d_name[0:10])\n"
   ]
  },
  {
   "cell_type": "markdown",
   "metadata": {},
   "source": [
    "### inner join title.rating and title.basics to discard all titles that are not labeled\n",
    "\n",
    "### also remove records from joined data frame if isAdult column not 0 or 1"
   ]
  },
  {
   "cell_type": "code",
   "execution_count": 5,
   "metadata": {},
   "outputs": [
    {
     "data": {
      "text/plain": [
       "(954648, 11)"
      ]
     },
     "execution_count": 5,
     "metadata": {},
     "output_type": "execute_result"
    }
   ],
   "source": [
    "#join title.rating and title.basics dataframes to eliminate titles that are not labeled\n",
    "d_labeled = d_ratings.merge(d_basics, left_on='tconst', right_on='tconst', how='inner')\n",
    "\n",
    "#do some cleaning\n",
    "#do cleaning\n",
    "d_l = d_labeled[(d_labeled['isAdult']==0) | (d_labeled['isAdult']==1)]\n",
    "d_labeled = d_l\n",
    "\n",
    "\n",
    "d_labeled.shape\n",
    "\n"
   ]
  },
  {
   "cell_type": "markdown",
   "metadata": {},
   "source": [
    "### one hot encode titleType"
   ]
  },
  {
   "cell_type": "code",
   "execution_count": 6,
   "metadata": {},
   "outputs": [
    {
     "data": {
      "text/html": [
       "<div>\n",
       "<style scoped>\n",
       "    .dataframe tbody tr th:only-of-type {\n",
       "        vertical-align: middle;\n",
       "    }\n",
       "\n",
       "    .dataframe tbody tr th {\n",
       "        vertical-align: top;\n",
       "    }\n",
       "\n",
       "    .dataframe thead th {\n",
       "        text-align: right;\n",
       "    }\n",
       "</style>\n",
       "<table border=\"1\" class=\"dataframe\">\n",
       "  <thead>\n",
       "    <tr style=\"text-align: right;\">\n",
       "      <th></th>\n",
       "      <th>titleType_movie</th>\n",
       "      <th>titleType_short</th>\n",
       "      <th>titleType_tvEpisode</th>\n",
       "      <th>titleType_tvMiniSeries</th>\n",
       "      <th>titleType_tvMovie</th>\n",
       "      <th>titleType_tvSeries</th>\n",
       "      <th>titleType_tvShort</th>\n",
       "      <th>titleType_tvSpecial</th>\n",
       "      <th>titleType_video</th>\n",
       "      <th>titleType_videoGame</th>\n",
       "    </tr>\n",
       "  </thead>\n",
       "  <tbody>\n",
       "    <tr>\n",
       "      <th>0</th>\n",
       "      <td>0</td>\n",
       "      <td>1</td>\n",
       "      <td>0</td>\n",
       "      <td>0</td>\n",
       "      <td>0</td>\n",
       "      <td>0</td>\n",
       "      <td>0</td>\n",
       "      <td>0</td>\n",
       "      <td>0</td>\n",
       "      <td>0</td>\n",
       "    </tr>\n",
       "    <tr>\n",
       "      <th>1</th>\n",
       "      <td>0</td>\n",
       "      <td>1</td>\n",
       "      <td>0</td>\n",
       "      <td>0</td>\n",
       "      <td>0</td>\n",
       "      <td>0</td>\n",
       "      <td>0</td>\n",
       "      <td>0</td>\n",
       "      <td>0</td>\n",
       "      <td>0</td>\n",
       "    </tr>\n",
       "    <tr>\n",
       "      <th>2</th>\n",
       "      <td>0</td>\n",
       "      <td>1</td>\n",
       "      <td>0</td>\n",
       "      <td>0</td>\n",
       "      <td>0</td>\n",
       "      <td>0</td>\n",
       "      <td>0</td>\n",
       "      <td>0</td>\n",
       "      <td>0</td>\n",
       "      <td>0</td>\n",
       "    </tr>\n",
       "  </tbody>\n",
       "</table>\n",
       "</div>"
      ],
      "text/plain": [
       "   titleType_movie  titleType_short  titleType_tvEpisode  \\\n",
       "0                0                1                    0   \n",
       "1                0                1                    0   \n",
       "2                0                1                    0   \n",
       "\n",
       "   titleType_tvMiniSeries  titleType_tvMovie  titleType_tvSeries  \\\n",
       "0                       0                  0                   0   \n",
       "1                       0                  0                   0   \n",
       "2                       0                  0                   0   \n",
       "\n",
       "   titleType_tvShort  titleType_tvSpecial  titleType_video  \\\n",
       "0                  0                    0                0   \n",
       "1                  0                    0                0   \n",
       "2                  0                    0                0   \n",
       "\n",
       "   titleType_videoGame  \n",
       "0                    0  \n",
       "1                    0  \n",
       "2                    0  "
      ]
     },
     "execution_count": 6,
     "metadata": {},
     "output_type": "execute_result"
    }
   ],
   "source": [
    "#construct features from mearged d_labeled dataframe\n",
    "\n",
    "#title.basics.titleType types\n",
    "types = pd.get_dummies(d_labeled['titleType'],prefix='titleType')\n",
    "\n",
    "types.head(3)\n",
    "\n"
   ]
  },
  {
   "cell_type": "markdown",
   "metadata": {},
   "source": [
    "### one hot encode isAdult"
   ]
  },
  {
   "cell_type": "code",
   "execution_count": 7,
   "metadata": {},
   "outputs": [
    {
     "data": {
      "text/html": [
       "<div>\n",
       "<style scoped>\n",
       "    .dataframe tbody tr th:only-of-type {\n",
       "        vertical-align: middle;\n",
       "    }\n",
       "\n",
       "    .dataframe tbody tr th {\n",
       "        vertical-align: top;\n",
       "    }\n",
       "\n",
       "    .dataframe thead th {\n",
       "        text-align: right;\n",
       "    }\n",
       "</style>\n",
       "<table border=\"1\" class=\"dataframe\">\n",
       "  <thead>\n",
       "    <tr style=\"text-align: right;\">\n",
       "      <th></th>\n",
       "      <th>isAdult_0</th>\n",
       "      <th>isAdult_1</th>\n",
       "    </tr>\n",
       "  </thead>\n",
       "  <tbody>\n",
       "    <tr>\n",
       "      <th>0</th>\n",
       "      <td>1</td>\n",
       "      <td>0</td>\n",
       "    </tr>\n",
       "    <tr>\n",
       "      <th>1</th>\n",
       "      <td>1</td>\n",
       "      <td>0</td>\n",
       "    </tr>\n",
       "    <tr>\n",
       "      <th>2</th>\n",
       "      <td>1</td>\n",
       "      <td>0</td>\n",
       "    </tr>\n",
       "  </tbody>\n",
       "</table>\n",
       "</div>"
      ],
      "text/plain": [
       "   isAdult_0  isAdult_1\n",
       "0          1          0\n",
       "1          1          0\n",
       "2          1          0"
      ]
     },
     "execution_count": 7,
     "metadata": {},
     "output_type": "execute_result"
    }
   ],
   "source": [
    "\n",
    "#title.basics.isAdult\n",
    "adult = pd.get_dummies(d_labeled['isAdult'],prefix='isAdult')\n",
    "\n",
    "adult.head(3)\n",
    "\n",
    "\n"
   ]
  },
  {
   "cell_type": "markdown",
   "metadata": {},
   "source": [
    "### expand genre columns to different columns by splitting genres\n",
    "\n",
    "### binarize the genre by setting value of each of corresponding genres to 1"
   ]
  },
  {
   "cell_type": "code",
   "execution_count": 8,
   "metadata": {},
   "outputs": [
    {
     "name": "stderr",
     "output_type": "stream",
     "text": [
      "/home/dgautam/anaconda3/lib/python3.6/site-packages/ipykernel_launcher.py:20: DeprecationWarning: \n",
      ".ix is deprecated. Please use\n",
      ".loc for label based indexing or\n",
      ".iloc for positional indexing\n",
      "\n",
      "See the documentation here:\n",
      "http://pandas.pydata.org/pandas-docs/stable/indexing.html#ix-indexer-is-deprecated\n"
     ]
    },
    {
     "data": {
      "text/html": [
       "<div>\n",
       "<style scoped>\n",
       "    .dataframe tbody tr th:only-of-type {\n",
       "        vertical-align: middle;\n",
       "    }\n",
       "\n",
       "    .dataframe tbody tr th {\n",
       "        vertical-align: top;\n",
       "    }\n",
       "\n",
       "    .dataframe thead th {\n",
       "        text-align: right;\n",
       "    }\n",
       "</style>\n",
       "<table border=\"1\" class=\"dataframe\">\n",
       "  <thead>\n",
       "    <tr style=\"text-align: right;\">\n",
       "      <th></th>\n",
       "      <th>War</th>\n",
       "      <th>Biography</th>\n",
       "      <th>Adventure</th>\n",
       "      <th>Short</th>\n",
       "      <th>Musical</th>\n",
       "      <th>Adult</th>\n",
       "      <th>Fantasy</th>\n",
       "      <th>Music</th>\n",
       "      <th>Sci-Fi</th>\n",
       "      <th>Film-Noir</th>\n",
       "      <th>...</th>\n",
       "      <th>Drama</th>\n",
       "      <th>Sport</th>\n",
       "      <th>Romance</th>\n",
       "      <th>Horror</th>\n",
       "      <th>History</th>\n",
       "      <th>Western</th>\n",
       "      <th>Game-Show</th>\n",
       "      <th>Mystery</th>\n",
       "      <th>Talk-Show</th>\n",
       "      <th>Animation</th>\n",
       "    </tr>\n",
       "  </thead>\n",
       "  <tbody>\n",
       "    <tr>\n",
       "      <th>0</th>\n",
       "      <td>0.0</td>\n",
       "      <td>0.0</td>\n",
       "      <td>0.0</td>\n",
       "      <td>1.0</td>\n",
       "      <td>0.0</td>\n",
       "      <td>0.0</td>\n",
       "      <td>0.0</td>\n",
       "      <td>0.0</td>\n",
       "      <td>0.0</td>\n",
       "      <td>0.0</td>\n",
       "      <td>...</td>\n",
       "      <td>0.0</td>\n",
       "      <td>0.0</td>\n",
       "      <td>0.0</td>\n",
       "      <td>0.0</td>\n",
       "      <td>0.0</td>\n",
       "      <td>0.0</td>\n",
       "      <td>0.0</td>\n",
       "      <td>0.0</td>\n",
       "      <td>0.0</td>\n",
       "      <td>0.0</td>\n",
       "    </tr>\n",
       "    <tr>\n",
       "      <th>1</th>\n",
       "      <td>0.0</td>\n",
       "      <td>0.0</td>\n",
       "      <td>0.0</td>\n",
       "      <td>1.0</td>\n",
       "      <td>0.0</td>\n",
       "      <td>0.0</td>\n",
       "      <td>0.0</td>\n",
       "      <td>0.0</td>\n",
       "      <td>0.0</td>\n",
       "      <td>0.0</td>\n",
       "      <td>...</td>\n",
       "      <td>0.0</td>\n",
       "      <td>0.0</td>\n",
       "      <td>0.0</td>\n",
       "      <td>0.0</td>\n",
       "      <td>0.0</td>\n",
       "      <td>0.0</td>\n",
       "      <td>0.0</td>\n",
       "      <td>0.0</td>\n",
       "      <td>0.0</td>\n",
       "      <td>1.0</td>\n",
       "    </tr>\n",
       "    <tr>\n",
       "      <th>2</th>\n",
       "      <td>0.0</td>\n",
       "      <td>0.0</td>\n",
       "      <td>0.0</td>\n",
       "      <td>0.0</td>\n",
       "      <td>0.0</td>\n",
       "      <td>0.0</td>\n",
       "      <td>0.0</td>\n",
       "      <td>0.0</td>\n",
       "      <td>0.0</td>\n",
       "      <td>0.0</td>\n",
       "      <td>...</td>\n",
       "      <td>0.0</td>\n",
       "      <td>0.0</td>\n",
       "      <td>1.0</td>\n",
       "      <td>0.0</td>\n",
       "      <td>0.0</td>\n",
       "      <td>0.0</td>\n",
       "      <td>0.0</td>\n",
       "      <td>0.0</td>\n",
       "      <td>0.0</td>\n",
       "      <td>1.0</td>\n",
       "    </tr>\n",
       "  </tbody>\n",
       "</table>\n",
       "<p>3 rows × 28 columns</p>\n",
       "</div>"
      ],
      "text/plain": [
       "   War  Biography  Adventure  Short  Musical  Adult  Fantasy  Music  Sci-Fi  \\\n",
       "0  0.0        0.0        0.0    1.0      0.0    0.0      0.0    0.0     0.0   \n",
       "1  0.0        0.0        0.0    1.0      0.0    0.0      0.0    0.0     0.0   \n",
       "2  0.0        0.0        0.0    0.0      0.0    0.0      0.0    0.0     0.0   \n",
       "\n",
       "   Film-Noir    ...      Drama  Sport  Romance  Horror  History  Western  \\\n",
       "0        0.0    ...        0.0    0.0      0.0     0.0      0.0      0.0   \n",
       "1        0.0    ...        0.0    0.0      0.0     0.0      0.0      0.0   \n",
       "2        0.0    ...        0.0    0.0      1.0     0.0      0.0      0.0   \n",
       "\n",
       "   Game-Show  Mystery  Talk-Show  Animation  \n",
       "0        0.0      0.0        0.0        0.0  \n",
       "1        0.0      0.0        0.0        1.0  \n",
       "2        0.0      0.0        0.0        1.0  \n",
       "\n",
       "[3 rows x 28 columns]"
      ]
     },
     "execution_count": 8,
     "metadata": {},
     "output_type": "execute_result"
    }
   ],
   "source": [
    "# import numpy as np\n",
    "\n",
    "#title.basics.genres\n",
    "#this feature is binarized\n",
    "genres = d_labeled[\"genres\"].str.split(\",\", expand = True).values\n",
    "\n",
    "unique_genres = set(genres.flatten())\n",
    "unique_genres.remove(None)\n",
    "unique_genres.remove(\"\\\\N\")\n",
    "# print(unique_genres)\n",
    "\n",
    "#create genres data matrix with d_labeled x unique_genres\n",
    "gen = np.zeros((genres.shape[0],len(unique_genres)))\n",
    "gen = pd.DataFrame(data=gen,columns=list(unique_genres))\n",
    "\n",
    "#set the values to 1 for the title that belongs to genre\n",
    "for i in range(gen.shape[0]):\n",
    "    for g in genres[i]:\n",
    "        if g is not None and g !=\"\\\\N\":\n",
    "            gen.ix[i,g] = 1\n",
    "\n",
    "gen.head(3)"
   ]
  },
  {
   "cell_type": "markdown",
   "metadata": {},
   "source": [
    "### Concatenate above constructed features column together"
   ]
  },
  {
   "cell_type": "code",
   "execution_count": 9,
   "metadata": {},
   "outputs": [
    {
     "data": {
      "text/html": [
       "<div>\n",
       "<style scoped>\n",
       "    .dataframe tbody tr th:only-of-type {\n",
       "        vertical-align: middle;\n",
       "    }\n",
       "\n",
       "    .dataframe tbody tr th {\n",
       "        vertical-align: top;\n",
       "    }\n",
       "\n",
       "    .dataframe thead th {\n",
       "        text-align: right;\n",
       "    }\n",
       "</style>\n",
       "<table border=\"1\" class=\"dataframe\">\n",
       "  <thead>\n",
       "    <tr style=\"text-align: right;\">\n",
       "      <th></th>\n",
       "      <th>tconst</th>\n",
       "      <th>startYear</th>\n",
       "      <th>runtimeMinutes</th>\n",
       "      <th>averageRating</th>\n",
       "      <th>titleType_movie</th>\n",
       "      <th>titleType_short</th>\n",
       "      <th>titleType_tvEpisode</th>\n",
       "      <th>titleType_tvMiniSeries</th>\n",
       "      <th>titleType_tvMovie</th>\n",
       "      <th>titleType_tvSeries</th>\n",
       "      <th>...</th>\n",
       "      <th>Drama</th>\n",
       "      <th>Sport</th>\n",
       "      <th>Romance</th>\n",
       "      <th>Horror</th>\n",
       "      <th>History</th>\n",
       "      <th>Western</th>\n",
       "      <th>Game-Show</th>\n",
       "      <th>Mystery</th>\n",
       "      <th>Talk-Show</th>\n",
       "      <th>Animation</th>\n",
       "    </tr>\n",
       "  </thead>\n",
       "  <tbody>\n",
       "    <tr>\n",
       "      <th>0</th>\n",
       "      <td>tt0000001</td>\n",
       "      <td>1894</td>\n",
       "      <td>1</td>\n",
       "      <td>5.8</td>\n",
       "      <td>0</td>\n",
       "      <td>1</td>\n",
       "      <td>0</td>\n",
       "      <td>0</td>\n",
       "      <td>0</td>\n",
       "      <td>0</td>\n",
       "      <td>...</td>\n",
       "      <td>0.0</td>\n",
       "      <td>0.0</td>\n",
       "      <td>0.0</td>\n",
       "      <td>0.0</td>\n",
       "      <td>0.0</td>\n",
       "      <td>0.0</td>\n",
       "      <td>0.0</td>\n",
       "      <td>0.0</td>\n",
       "      <td>0.0</td>\n",
       "      <td>0.0</td>\n",
       "    </tr>\n",
       "    <tr>\n",
       "      <th>1</th>\n",
       "      <td>tt0000002</td>\n",
       "      <td>1892</td>\n",
       "      <td>5</td>\n",
       "      <td>6.3</td>\n",
       "      <td>0</td>\n",
       "      <td>1</td>\n",
       "      <td>0</td>\n",
       "      <td>0</td>\n",
       "      <td>0</td>\n",
       "      <td>0</td>\n",
       "      <td>...</td>\n",
       "      <td>0.0</td>\n",
       "      <td>0.0</td>\n",
       "      <td>0.0</td>\n",
       "      <td>0.0</td>\n",
       "      <td>0.0</td>\n",
       "      <td>0.0</td>\n",
       "      <td>0.0</td>\n",
       "      <td>0.0</td>\n",
       "      <td>0.0</td>\n",
       "      <td>1.0</td>\n",
       "    </tr>\n",
       "    <tr>\n",
       "      <th>2</th>\n",
       "      <td>tt0000003</td>\n",
       "      <td>1892</td>\n",
       "      <td>4</td>\n",
       "      <td>6.6</td>\n",
       "      <td>0</td>\n",
       "      <td>1</td>\n",
       "      <td>0</td>\n",
       "      <td>0</td>\n",
       "      <td>0</td>\n",
       "      <td>0</td>\n",
       "      <td>...</td>\n",
       "      <td>0.0</td>\n",
       "      <td>0.0</td>\n",
       "      <td>1.0</td>\n",
       "      <td>0.0</td>\n",
       "      <td>0.0</td>\n",
       "      <td>0.0</td>\n",
       "      <td>0.0</td>\n",
       "      <td>0.0</td>\n",
       "      <td>0.0</td>\n",
       "      <td>1.0</td>\n",
       "    </tr>\n",
       "  </tbody>\n",
       "</table>\n",
       "<p>3 rows × 44 columns</p>\n",
       "</div>"
      ],
      "text/plain": [
       "      tconst startYear runtimeMinutes  averageRating  titleType_movie  \\\n",
       "0  tt0000001      1894              1            5.8                0   \n",
       "1  tt0000002      1892              5            6.3                0   \n",
       "2  tt0000003      1892              4            6.6                0   \n",
       "\n",
       "   titleType_short  titleType_tvEpisode  titleType_tvMiniSeries  \\\n",
       "0                1                    0                       0   \n",
       "1                1                    0                       0   \n",
       "2                1                    0                       0   \n",
       "\n",
       "   titleType_tvMovie  titleType_tvSeries    ...      Drama  Sport  Romance  \\\n",
       "0                  0                   0    ...        0.0    0.0      0.0   \n",
       "1                  0                   0    ...        0.0    0.0      0.0   \n",
       "2                  0                   0    ...        0.0    0.0      1.0   \n",
       "\n",
       "   Horror  History  Western  Game-Show  Mystery  Talk-Show  Animation  \n",
       "0     0.0      0.0      0.0        0.0      0.0        0.0        0.0  \n",
       "1     0.0      0.0      0.0        0.0      0.0        0.0        1.0  \n",
       "2     0.0      0.0      0.0        0.0      0.0        0.0        1.0  \n",
       "\n",
       "[3 rows x 44 columns]"
      ]
     },
     "execution_count": 9,
     "metadata": {},
     "output_type": "execute_result"
    }
   ],
   "source": [
    "\n",
    "#concatinate types, adult, gen features with d_labeled\n",
    "d_labeled_features = pd.concat([d_labeled[['tconst','startYear','runtimeMinutes','averageRating']], types, adult, gen], axis=1)\n",
    "# print(temp_labeled.columns)\n",
    "\n",
    "d_labeled_features.head(3)\n",
    "# d_labeled_features.drop('averageRating',axis=1)\n",
    "\n",
    "# d_labeled_features.head(3)"
   ]
  },
  {
   "cell_type": "markdown",
   "metadata": {},
   "source": [
    "#### other features are omitted for now"
   ]
  },
  {
   "cell_type": "code",
   "execution_count": 10,
   "metadata": {},
   "outputs": [],
   "source": [
    "#TODO create other features\n"
   ]
  },
  {
   "cell_type": "markdown",
   "metadata": {},
   "source": [
    "### count the local titles for a title\n",
    "\n",
    "### count the type of local title"
   ]
  },
  {
   "cell_type": "code",
   "execution_count": 11,
   "metadata": {},
   "outputs": [],
   "source": [
    "#construct features from title.akas\n",
    "\n",
    "#count number of local titles\n",
    "d_akas['n_loc_title'] = 0 #add extra column for counting\n",
    "d_akas['n_title_type'] = 0 #add extra column for counting\n",
    "local_title_cnt = d_akas[['titleId', 'n_loc_title']].groupby('titleId',as_index=False).count()\n",
    "\n",
    "# print(local_title_cnt[0:5])\n",
    "\n",
    "#count the types of local titles\n",
    "title_types = d_akas[d_akas['types']!='\\\\N'][['titleId', 'types','n_title_type']]\n",
    "# print(title_types.head(10))\n",
    "title_types_cnt = title_types[['titleId', 'n_title_type']].groupby('titleId',as_index=False).count()\n",
    "\n",
    "\n",
    "#join the count features\n",
    "d_akas_features = local_title_cnt.merge(title_types_cnt, left_on='titleId', right_on='titleId', how='inner')\n",
    "\n"
   ]
  },
  {
   "cell_type": "code",
   "execution_count": 12,
   "metadata": {},
   "outputs": [
    {
     "data": {
      "text/html": [
       "<div>\n",
       "<style scoped>\n",
       "    .dataframe tbody tr th:only-of-type {\n",
       "        vertical-align: middle;\n",
       "    }\n",
       "\n",
       "    .dataframe tbody tr th {\n",
       "        vertical-align: top;\n",
       "    }\n",
       "\n",
       "    .dataframe thead th {\n",
       "        text-align: right;\n",
       "    }\n",
       "</style>\n",
       "<table border=\"1\" class=\"dataframe\">\n",
       "  <thead>\n",
       "    <tr style=\"text-align: right;\">\n",
       "      <th></th>\n",
       "      <th>titleId</th>\n",
       "      <th>n_loc_title</th>\n",
       "      <th>n_title_type</th>\n",
       "    </tr>\n",
       "  </thead>\n",
       "  <tbody>\n",
       "    <tr>\n",
       "      <th>0</th>\n",
       "      <td>tt0000001</td>\n",
       "      <td>5</td>\n",
       "      <td>2</td>\n",
       "    </tr>\n",
       "    <tr>\n",
       "      <th>1</th>\n",
       "      <td>tt0000002</td>\n",
       "      <td>6</td>\n",
       "      <td>3</td>\n",
       "    </tr>\n",
       "    <tr>\n",
       "      <th>2</th>\n",
       "      <td>tt0000003</td>\n",
       "      <td>6</td>\n",
       "      <td>4</td>\n",
       "    </tr>\n",
       "  </tbody>\n",
       "</table>\n",
       "</div>"
      ],
      "text/plain": [
       "     titleId  n_loc_title  n_title_type\n",
       "0  tt0000001            5             2\n",
       "1  tt0000002            6             3\n",
       "2  tt0000003            6             4"
      ]
     },
     "execution_count": 12,
     "metadata": {},
     "output_type": "execute_result"
    }
   ],
   "source": [
    "d_akas_features.head(3)"
   ]
  },
  {
   "cell_type": "markdown",
   "metadata": {},
   "source": [
    "### join above featuers to obtain final features"
   ]
  },
  {
   "cell_type": "code",
   "execution_count": 13,
   "metadata": {},
   "outputs": [
    {
     "data": {
      "text/html": [
       "<div>\n",
       "<style scoped>\n",
       "    .dataframe tbody tr th:only-of-type {\n",
       "        vertical-align: middle;\n",
       "    }\n",
       "\n",
       "    .dataframe tbody tr th {\n",
       "        vertical-align: top;\n",
       "    }\n",
       "\n",
       "    .dataframe thead th {\n",
       "        text-align: right;\n",
       "    }\n",
       "</style>\n",
       "<table border=\"1\" class=\"dataframe\">\n",
       "  <thead>\n",
       "    <tr style=\"text-align: right;\">\n",
       "      <th></th>\n",
       "      <th>tconst</th>\n",
       "      <th>startYear</th>\n",
       "      <th>runtimeMinutes</th>\n",
       "      <th>averageRating</th>\n",
       "      <th>titleType_movie</th>\n",
       "      <th>titleType_short</th>\n",
       "      <th>titleType_tvEpisode</th>\n",
       "      <th>titleType_tvMiniSeries</th>\n",
       "      <th>titleType_tvMovie</th>\n",
       "      <th>titleType_tvSeries</th>\n",
       "      <th>...</th>\n",
       "      <th>Romance</th>\n",
       "      <th>Horror</th>\n",
       "      <th>History</th>\n",
       "      <th>Western</th>\n",
       "      <th>Game-Show</th>\n",
       "      <th>Mystery</th>\n",
       "      <th>Talk-Show</th>\n",
       "      <th>Animation</th>\n",
       "      <th>n_loc_title</th>\n",
       "      <th>n_title_type</th>\n",
       "    </tr>\n",
       "  </thead>\n",
       "  <tbody>\n",
       "    <tr>\n",
       "      <th>0</th>\n",
       "      <td>tt0000001</td>\n",
       "      <td>1894</td>\n",
       "      <td>1</td>\n",
       "      <td>5.8</td>\n",
       "      <td>0</td>\n",
       "      <td>1</td>\n",
       "      <td>0</td>\n",
       "      <td>0</td>\n",
       "      <td>0</td>\n",
       "      <td>0</td>\n",
       "      <td>...</td>\n",
       "      <td>0.0</td>\n",
       "      <td>0.0</td>\n",
       "      <td>0.0</td>\n",
       "      <td>0.0</td>\n",
       "      <td>0.0</td>\n",
       "      <td>0.0</td>\n",
       "      <td>0.0</td>\n",
       "      <td>0.0</td>\n",
       "      <td>5</td>\n",
       "      <td>2</td>\n",
       "    </tr>\n",
       "    <tr>\n",
       "      <th>1</th>\n",
       "      <td>tt0000002</td>\n",
       "      <td>1892</td>\n",
       "      <td>5</td>\n",
       "      <td>6.3</td>\n",
       "      <td>0</td>\n",
       "      <td>1</td>\n",
       "      <td>0</td>\n",
       "      <td>0</td>\n",
       "      <td>0</td>\n",
       "      <td>0</td>\n",
       "      <td>...</td>\n",
       "      <td>0.0</td>\n",
       "      <td>0.0</td>\n",
       "      <td>0.0</td>\n",
       "      <td>0.0</td>\n",
       "      <td>0.0</td>\n",
       "      <td>0.0</td>\n",
       "      <td>0.0</td>\n",
       "      <td>1.0</td>\n",
       "      <td>6</td>\n",
       "      <td>3</td>\n",
       "    </tr>\n",
       "    <tr>\n",
       "      <th>2</th>\n",
       "      <td>tt0000003</td>\n",
       "      <td>1892</td>\n",
       "      <td>4</td>\n",
       "      <td>6.6</td>\n",
       "      <td>0</td>\n",
       "      <td>1</td>\n",
       "      <td>0</td>\n",
       "      <td>0</td>\n",
       "      <td>0</td>\n",
       "      <td>0</td>\n",
       "      <td>...</td>\n",
       "      <td>1.0</td>\n",
       "      <td>0.0</td>\n",
       "      <td>0.0</td>\n",
       "      <td>0.0</td>\n",
       "      <td>0.0</td>\n",
       "      <td>0.0</td>\n",
       "      <td>0.0</td>\n",
       "      <td>1.0</td>\n",
       "      <td>6</td>\n",
       "      <td>4</td>\n",
       "    </tr>\n",
       "  </tbody>\n",
       "</table>\n",
       "<p>3 rows × 46 columns</p>\n",
       "</div>"
      ],
      "text/plain": [
       "      tconst startYear runtimeMinutes  averageRating  titleType_movie  \\\n",
       "0  tt0000001      1894              1            5.8                0   \n",
       "1  tt0000002      1892              5            6.3                0   \n",
       "2  tt0000003      1892              4            6.6                0   \n",
       "\n",
       "   titleType_short  titleType_tvEpisode  titleType_tvMiniSeries  \\\n",
       "0                1                    0                       0   \n",
       "1                1                    0                       0   \n",
       "2                1                    0                       0   \n",
       "\n",
       "   titleType_tvMovie  titleType_tvSeries      ...       Romance  Horror  \\\n",
       "0                  0                   0      ...           0.0     0.0   \n",
       "1                  0                   0      ...           0.0     0.0   \n",
       "2                  0                   0      ...           1.0     0.0   \n",
       "\n",
       "   History  Western  Game-Show  Mystery  Talk-Show  Animation  n_loc_title  \\\n",
       "0      0.0      0.0        0.0      0.0        0.0        0.0            5   \n",
       "1      0.0      0.0        0.0      0.0        0.0        1.0            6   \n",
       "2      0.0      0.0        0.0      0.0        0.0        1.0            6   \n",
       "\n",
       "   n_title_type  \n",
       "0             2  \n",
       "1             3  \n",
       "2             4  \n",
       "\n",
       "[3 rows x 46 columns]"
      ]
     },
     "execution_count": 13,
     "metadata": {},
     "output_type": "execute_result"
    }
   ],
   "source": [
    "#join d_akas_features with d_labeled_features\n",
    "\n",
    "d_final_labeled = d_labeled_features.merge(d_akas_features, left_on='tconst', right_on='titleId', how='inner')\n",
    "\n",
    "d_final_labeled = d_final_labeled.drop(['titleId',],axis=1)\n",
    "\n",
    "d_final_labeled.head(3)"
   ]
  },
  {
   "cell_type": "markdown",
   "metadata": {},
   "source": [
    "### separate features (X) and ratings (Y)\n",
    "\n",
    "### do some imputations"
   ]
  },
  {
   "cell_type": "code",
   "execution_count": 17,
   "metadata": {},
   "outputs": [
    {
     "name": "stdout",
     "output_type": "stream",
     "text": [
      "runtimeMinutes    80.253227\n",
      "dtype: float64\n",
      "startYear                 False\n",
      "runtimeMinutes            False\n",
      "titleType_movie           False\n",
      "titleType_short           False\n",
      "titleType_tvEpisode       False\n",
      "titleType_tvMiniSeries    False\n",
      "titleType_tvMovie         False\n",
      "titleType_tvSeries        False\n",
      "titleType_tvShort         False\n",
      "titleType_tvSpecial       False\n",
      "titleType_video           False\n",
      "titleType_videoGame       False\n",
      "isAdult_0                 False\n",
      "isAdult_1                 False\n",
      "War                       False\n",
      "Biography                 False\n",
      "Adventure                 False\n",
      "Short                     False\n",
      "Musical                   False\n",
      "Adult                     False\n",
      "Fantasy                   False\n",
      "Music                     False\n",
      "Sci-Fi                    False\n",
      "Film-Noir                 False\n",
      "Thriller                  False\n",
      "Reality-TV                False\n",
      "News                      False\n",
      "Family                    False\n",
      "Comedy                    False\n",
      "Documentary               False\n",
      "Crime                     False\n",
      "Action                    False\n",
      "Drama                     False\n",
      "Sport                     False\n",
      "Romance                   False\n",
      "Horror                    False\n",
      "History                   False\n",
      "Western                   False\n",
      "Game-Show                 False\n",
      "Mystery                   False\n",
      "Talk-Show                 False\n",
      "Animation                 False\n",
      "n_loc_title               False\n",
      "n_title_type              False\n",
      "dtype: bool\n",
      "is Null_x: Empty DataFrame\n",
      "Columns: [startYear, runtimeMinutes, titleType_movie, titleType_short, titleType_tvEpisode, titleType_tvMiniSeries, titleType_tvMovie, titleType_tvSeries, titleType_tvShort, titleType_tvSpecial, titleType_video, titleType_videoGame, isAdult_0, isAdult_1, War, Biography, Adventure, Short, Musical, Adult, Fantasy, Music, Sci-Fi, Film-Noir, Thriller, Reality-TV, News, Family, Comedy, Documentary, Crime, Action, Drama, Sport, Romance, Horror, History, Western, Game-Show, Mystery, Talk-Show, Animation, n_loc_title, n_title_type]\n",
      "Index: []\n",
      "\n",
      "[0 rows x 44 columns]\n",
      "is Null Y:  False\n"
     ]
    }
   ],
   "source": [
    "#separate X and Y from labeled features dataframe\n",
    "\n",
    "d_X = d_final_labeled.drop(['averageRating','tconst'],axis=1)\n",
    "\n",
    "\n",
    "\n",
    "d_Y = d_final_labeled['averageRating']\n",
    "\n",
    "\n",
    "# d_labeled_features.drop('averageRating',axis=1)\n",
    "\n",
    "#do some imputation\n",
    "\n",
    "#replace \\N of runtimeMinutes with average value of runtimeMinutes \n",
    "\n",
    "avg = d_X[d_X['runtimeMinutes'] !=\"\\\\N\"].astype(float)['runtimeMinutes'].to_frame().mean()\n",
    "print(avg)\n",
    "d_X.loc[d_X['runtimeMinutes']  ==\"\\\\N\", 'runtimeMinutes'] = avg.values[0]\n",
    "d_X['runtimeMinutes'] = d_X.runtimeMinutes.fillna(avg)\n",
    "\n",
    "\n",
    "\n",
    "print(d_X[d_X==\"\\\\N\"].any())\n",
    "\n",
    "print(\"is Null_x:\",d_X[pd.isnull(d_X).any(axis=1)])\n",
    "\n",
    "print(\"is Null Y: \", d_Y.isnull().values.any())\n"
   ]
  },
  {
   "cell_type": "markdown",
   "metadata": {},
   "source": [
    "### Split dataset into testing and training"
   ]
  },
  {
   "cell_type": "code",
   "execution_count": 18,
   "metadata": {},
   "outputs": [
    {
     "name": "stdout",
     "output_type": "stream",
     "text": [
      "Total data:  244061\n",
      "#Training: 195248\n",
      "#Testing: 48813\n"
     ]
    }
   ],
   "source": [
    "\n",
    "# #create dummy data. This should be replaced with actual transformed features from IMDB database\n",
    "# X = {'f1':[1.0, 0.5, 0.7, 2.1, 1.9, 0.9, 1.07, 0.99, 1.05, 2.006], \n",
    "# 'f2':[1, 0, 0, 1, 0, 0, 1, 1, 0, 1], \n",
    "# 'f3':[1.5, 0.7, 0.66, 1.09, 1.006, 1.34, 1.01, 0.99, 1.1, 1.02],\n",
    "# 'f4':[1.3, 1.005, 1.1, 0.92, 1.8, 0.98, 1.08, 0.27, 0.36, 1.7],\n",
    "# 'f5':[1, 1, 1, 0, 0, 0, 1, 0, 1, 1]} \n",
    "\n",
    "\n",
    "X = d_X.values\n",
    "# print(X)\n",
    "Y = d_Y.values\n",
    "\n",
    "#split data into training and testing\n",
    "\n",
    "\n",
    "from sklearn.model_selection import train_test_split\n",
    "\n",
    "# X, Y = d_ratings['tconst'].to_numpy(), d_ratings['averageRating'].to_numpy()\n",
    "\n",
    "\n",
    "X_train, X_test, Y_train, Y_test = train_test_split(X, Y, test_size=0.20, random_state=42)\n",
    "\n",
    "print(\"Total data: \", X.shape[0])\n",
    "print(\"#Training:\", X_train.shape[0])\n",
    "print(\"#Testing:\", X.shape[0]-X_train.shape[0])\n",
    "\n",
    "\n",
    "\n"
   ]
  },
  {
   "cell_type": "markdown",
   "metadata": {},
   "source": [
    "### Linear Regression Model"
   ]
  },
  {
   "cell_type": "code",
   "execution_count": 20,
   "metadata": {},
   "outputs": [
    {
     "name": "stdout",
     "output_type": "stream",
     "text": [
      "Training R^2:  0.19892304522394744\n",
      "Test R^2:  0.18456096767849894\n",
      "[6.82511584 6.30062493 6.21317    ... 7.89095994 7.70258829 6.16469859]\n",
      "[7.8 6.4 5.9 ... 7.4 7.1 7.3]\n"
     ]
    },
    {
     "data": {
      "text/plain": [
       "<function matplotlib.pyplot.show(*args, **kw)>"
      ]
     },
     "execution_count": 20,
     "metadata": {},
     "output_type": "execute_result"
    },
    {
     "data": {
      "image/png": "[encoded data removed]",
      "text/plain": [
       "<Figure size 432x288 with 1 Axes>"
      ]
     },
     "metadata": {},
     "output_type": "display_data"
    }
   ],
   "source": [
    "#experiment with linear regression\n",
    "from sklearn.linear_model import LinearRegression\n",
    "\n",
    "regr = LinearRegression()\n",
    "\n",
    "regr.fit(X_train, Y_train)\n",
    "\n",
    "\n",
    "y_pred = regr.predict(X_test)\n",
    "y_pred= np.clip(y_pred,0,10) #clip the predicted output to 0-10; the range of movie ratings\n",
    "\n",
    "print(\"Training R^2: \", regr.score(X_train,Y_train))\n",
    "print(\"Test R^2: \", regr.score(X_test, Y_test))\n",
    "\n",
    "\n",
    "\n",
    "print(y_pred)\n",
    "print(Y_test)\n",
    "\n",
    "import matplotlib.pyplot as plt\n",
    "\n",
    "plt.plot(Y_test, y_pred,'gx')\n",
    "plt.xlabel('actual')\n",
    "plt.ylabel('predicted')\n",
    "plt.show"
   ]
  },
  {
   "cell_type": "markdown",
   "metadata": {},
   "source": [
    "### Ridge Regression Model"
   ]
  },
  {
   "cell_type": "code",
   "execution_count": 21,
   "metadata": {},
   "outputs": [
    {
     "name": "stdout",
     "output_type": "stream",
     "text": [
      "Training R^2:  0.19892303123082367\n",
      "Test R^2:  0.1845619114835888\n",
      "[6.82507299 6.30062163 6.21321293 ... 7.89083266 7.70244587 6.16470272]\n",
      "[7.8 6.4 5.9 ... 7.4 7.1 7.3]\n"
     ]
    },
    {
     "data": {
      "text/plain": [
       "<function matplotlib.pyplot.show(*args, **kw)>"
      ]
     },
     "execution_count": 21,
     "metadata": {},
     "output_type": "execute_result"
    },
    {
     "data": {
      "image/png": "[encoded data removed]",
      "text/plain": [
       "<Figure size 432x288 with 1 Axes>"
      ]
     },
     "metadata": {},
     "output_type": "display_data"
    }
   ],
   "source": [
    "from sklearn.linear_model import Ridge\n",
    "\n",
    "#experiment with ridge regression\n",
    "regr = Ridge(alpha=1.0) #regularization = 1.0 chosen\n",
    "\n",
    "regr.fit(X_train, Y_train) \n",
    "y_pred = regr.predict(X_test)\n",
    "y_pred= np.clip(y_pred,0,10) #clip the predicted output to 0-10; the range of movie ratings\n",
    "\n",
    "print(\"Training R^2: \", regr.score(X_train,Y_train))\n",
    "print(\"Test R^2: \", regr.score(X_test, Y_test))\n",
    "\n",
    "print(y_pred)\n",
    "print(Y_test)\n",
    "\n",
    "import matplotlib.pyplot as plt\n",
    "\n",
    "plt.plot(Y_test, y_pred,'gx')\n",
    "plt.xlabel('actual')\n",
    "plt.ylabel('predicted')\n",
    "plt.show"
   ]
  },
  {
   "cell_type": "markdown",
   "metadata": {},
   "source": [
    "### Neural Network model"
   ]
  },
  {
   "cell_type": "code",
   "execution_count": 22,
   "metadata": {},
   "outputs": [
    {
     "name": "stderr",
     "output_type": "stream",
     "text": [
      "/home/dgautam/anaconda3/lib/python3.6/site-packages/h5py/__init__.py:36: FutureWarning: Conversion of the second argument of issubdtype from `float` to `np.floating` is deprecated. In future, it will be treated as `np.float64 == np.dtype(float).type`.\n",
      "  from ._conv import register_converters as _register_converters\n",
      "Using TensorFlow backend.\n"
     ]
    },
    {
     "name": "stdout",
     "output_type": "stream",
     "text": [
      "Training R^2:  0.25780103207299754\n",
      "Test R^2:  0.2550893138393434\n",
      "[[7.132907 ]\n",
      " [6.2735767]\n",
      " [6.140865 ]\n",
      " ...\n",
      " [7.275991 ]\n",
      " [7.291604 ]\n",
      " [6.032723 ]]\n",
      "[7.8 6.4 5.9 ... 7.4 7.1 7.3]\n"
     ]
    },
    {
     "data": {
      "text/plain": [
       "<function matplotlib.pyplot.show(*args, **kw)>"
      ]
     },
     "execution_count": 22,
     "metadata": {},
     "output_type": "execute_result"
    },
    {
     "data": {
      "image/png": "[encoded data removed]",
      "text/plain": [
       "<Figure size 432x288 with 1 Axes>"
      ]
     },
     "metadata": {},
     "output_type": "display_data"
    }
   ],
   "source": [
    "from keras.models import Sequential\n",
    "from keras.layers import Dense\n",
    "from sklearn.metrics import r2_score\n",
    "\n",
    "regr = Sequential()\n",
    "regr.add(Dense(150, input_dim=X_train.shape[1], kernel_initializer='normal', activation='relu'))\n",
    "regr.add(Dense(30, activation='relu'))\n",
    "regr.add(Dense(1, activation='linear'))\n",
    "\n",
    "regr.compile(loss='mse', optimizer='adam', metrics=['mse'])\n",
    "\n",
    "history = regr.fit(X_train, Y_train, epochs=150, batch_size=50,  verbose=0)\n",
    "# history = regr.fit(X_train, y_train, epochs=150, batch_size=50,  verbose=0, validation_split=0.2)\n",
    "\n",
    "# model.summary()\n",
    "\n",
    "y_pred = regr.predict(X_test)\n",
    "y_pred= np.clip(y_pred,0,10) #clip the predicted output to 0-10; the range of movie ratings\n",
    "\n",
    "\n",
    "\n",
    "print(\"Training R^2: \",r2_score(Y_train,regr.predict(X_train)))\n",
    "print(\"Test R^2: \", r2_score(Y_test,y_pred))\n",
    "\n",
    "print(y_pred)\n",
    "print(Y_test)\n",
    "\n",
    "import matplotlib.pyplot as plt\n",
    "\n",
    "plt.plot(Y_test, y_pred,'gx')\n",
    "plt.xlabel('actual')\n",
    "plt.ylabel('predicted')\n",
    "plt.show"
   ]
  },
  {
   "cell_type": "code",
   "execution_count": null,
   "metadata": {},
   "outputs": [],
   "source": []
  },
  {
   "cell_type": "code",
   "execution_count": null,
   "metadata": {},
   "outputs": [],
   "source": []
  }
 ],
 "metadata": {
  "kernelspec": {
   "display_name": "Python 3",
   "language": "python",
   "name": "python3"
  },
  "language_info": {
   "codemirror_mode": {
    "name": "ipython",
    "version": 3
   },
   "file_extension": ".py",
   "mimetype": "text/x-python",
   "name": "python",
   "nbconvert_exporter": "python",
   "pygments_lexer": "ipython3",
   "version": "3.6.5"
  }
 },
 "nbformat": 4,
 "nbformat_minor": 2
}
